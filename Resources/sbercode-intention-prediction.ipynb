{
 "cells": [
  {
   "cell_type": "code",
   "execution_count": 1,
   "metadata": {
    "_cell_guid": "b1076dfc-b9ad-4769-8c92-a6c4dae69d19",
    "_uuid": "8f2839f25d086af736a60e9eeb907d3b93b6e0e5"
   },
   "outputs": [
    {
     "name": "stderr",
     "output_type": "stream",
     "text": [
      "\u001b[34m\u001b[1mwandb\u001b[0m: \u001b[33mWARNING\u001b[0m W&B installed but not logged in.  Run `wandb login` or set the WANDB_API_KEY env variable.\n"
     ]
    }
   ],
   "source": [
    "import os\n",
    "\n",
    "import numpy as np\n",
    "import pandas as pd\n",
    "import tensorflow as tf\n",
    "from tensorflow.keras.layers import Dense, Input\n",
    "from tensorflow.keras.optimizers import Adam\n",
    "from tensorflow.keras.models import Model\n",
    "from tensorflow.keras.callbacks import ModelCheckpoint\n",
    "from kaggle_datasets import KaggleDatasets\n",
    "import transformers\n",
    "from transformers import TFAutoModel, AutoTokenizer\n",
    "from tqdm.notebook import tqdm\n",
    "from tokenizers import Tokenizer, models, pre_tokenizers, decoders, processors"
   ]
  },
  {
   "cell_type": "markdown",
   "metadata": {},
   "source": [
    "## Helper Functions"
   ]
  },
  {
   "cell_type": "code",
   "execution_count": 3,
   "metadata": {},
   "outputs": [],
   "source": [
    "def regular_encode(texts, tokenizer, maxlen=512):\n",
    "    enc_di = tokenizer.batch_encode_plus(\n",
    "        texts, \n",
    "        return_attention_masks=False, \n",
    "        return_token_type_ids=False,\n",
    "        pad_to_max_length=True,\n",
    "        max_length=maxlen\n",
    "    )\n",
    "    \n",
    "    return np.array(enc_di['input_ids'])"
   ]
  },
  {
   "cell_type": "code",
   "execution_count": 4,
   "metadata": {},
   "outputs": [],
   "source": [
    "def build_model(transformer, max_len=512):\n",
    "    input_word_ids = Input(shape=(max_len,), dtype=tf.int32, name=\"input_word_ids\")\n",
    "    sequence_output = transformer(input_word_ids)[0]\n",
    "    cls_token = sequence_output[:, 0, :]\n",
    "    out = Dense(5, activation='softmax')(cls_token)\n",
    "    \n",
    "    model = Model(inputs=input_word_ids, outputs=out)\n",
    "    model.compile(Adam(lr=1e-5), loss='categorical_crossentropy', metrics=['accuracy'])\n",
    "    # model.layers[1].trainable = False\n",
    "    \n",
    "    return model"
   ]
  },
  {
   "cell_type": "markdown",
   "metadata": {},
   "source": [
    "## TPU Configs"
   ]
  },
  {
   "cell_type": "code",
   "execution_count": 5,
   "metadata": {},
   "outputs": [
    {
     "name": "stdout",
     "output_type": "stream",
     "text": [
      "Running on TPU  grpc://10.0.0.2:8470\n",
      "REPLICAS:  8\n"
     ]
    }
   ],
   "source": [
    "try:\n",
    "    tpu = tf.distribute.cluster_resolver.TPUClusterResolver()\n",
    "    print('Running on TPU ', tpu.master())\n",
    "except ValueError:\n",
    "    tpu = None\n",
    "\n",
    "if tpu:\n",
    "    tf.config.experimental_connect_to_cluster(tpu)\n",
    "    tf.tpu.experimental.initialize_tpu_system(tpu)\n",
    "    strategy = tf.distribute.experimental.TPUStrategy(tpu)\n",
    "else:\n",
    "    strategy = tf.distribute.get_strategy()\n",
    "\n",
    "print(\"REPLICAS: \", strategy.num_replicas_in_sync)"
   ]
  },
  {
   "cell_type": "code",
   "execution_count": 6,
   "metadata": {},
   "outputs": [],
   "source": [
    "AUTO = tf.data.experimental.AUTOTUNE\n",
    "\n",
    "# Configuration\n",
    "EPOCHS = 2\n",
    "BATCH_SIZE = 16 * strategy.num_replicas_in_sync\n",
    "MAX_LEN = 192\n",
    "MODEL = 'jplu/tf-xlm-roberta-large'"
   ]
  },
  {
   "cell_type": "markdown",
   "metadata": {},
   "source": [
    "## Create fast tokenizer"
   ]
  },
  {
   "cell_type": "code",
   "execution_count": 7,
   "metadata": {},
   "outputs": [
    {
     "data": {
      "application/vnd.jupyter.widget-view+json": {
       "model_id": "8b00f34f87854f528ba9083467e2785e",
       "version_major": 2,
       "version_minor": 0
      },
      "text/plain": [
       "HBox(children=(FloatProgress(value=0.0, description='Downloading', max=513.0, style=ProgressStyle(description_…"
      ]
     },
     "metadata": {},
     "output_type": "display_data"
    },
    {
     "name": "stdout",
     "output_type": "stream",
     "text": [
      "\n"
     ]
    },
    {
     "data": {
      "application/vnd.jupyter.widget-view+json": {
       "model_id": "8678b5b0a70b4ee7a9b0cc2f4a8f3f42",
       "version_major": 2,
       "version_minor": 0
      },
      "text/plain": [
       "HBox(children=(FloatProgress(value=0.0, description='Downloading', max=5069051.0, style=ProgressStyle(descript…"
      ]
     },
     "metadata": {},
     "output_type": "display_data"
    },
    {
     "name": "stdout",
     "output_type": "stream",
     "text": [
      "\n"
     ]
    }
   ],
   "source": [
    "tokenizer = AutoTokenizer.from_pretrained(MODEL)"
   ]
  },
  {
   "cell_type": "markdown",
   "metadata": {},
   "source": [
    "## Load text data into memory"
   ]
  },
  {
   "cell_type": "code",
   "execution_count": 8,
   "metadata": {},
   "outputs": [
    {
     "data": {
      "text/html": [
       "<div>\n",
       "<style scoped>\n",
       "    .dataframe tbody tr th:only-of-type {\n",
       "        vertical-align: middle;\n",
       "    }\n",
       "\n",
       "    .dataframe tbody tr th {\n",
       "        vertical-align: top;\n",
       "    }\n",
       "\n",
       "    .dataframe thead th {\n",
       "        text-align: right;\n",
       "    }\n",
       "</style>\n",
       "<table border=\"1\" class=\"dataframe\">\n",
       "  <thead>\n",
       "    <tr style=\"text-align: right;\">\n",
       "      <th></th>\n",
       "      <th>id</th>\n",
       "      <th>review</th>\n",
       "      <th>intention</th>\n",
       "      <th>topic</th>\n",
       "    </tr>\n",
       "  </thead>\n",
       "  <tbody>\n",
       "    <tr>\n",
       "      <th>0</th>\n",
       "      <td>f80a32d6-c714-11e6-b9f8-fa163e345ce9</td>\n",
       "      <td>Hey I am using what's app</td>\n",
       "      <td>OTHER</td>\n",
       "      <td>App-Feature/Functionality</td>\n",
       "    </tr>\n",
       "    <tr>\n",
       "      <th>1</th>\n",
       "      <td>f8456718-c714-11e6-b9f8-fa163e345ce9</td>\n",
       "      <td>Rajesh Beragi133a</td>\n",
       "      <td>OTHER</td>\n",
       "      <td>Other</td>\n",
       "    </tr>\n",
       "    <tr>\n",
       "      <th>2</th>\n",
       "      <td>f8aa1c5b-c714-11e6-b9f8-fa163e345ce9</td>\n",
       "      <td>UselEss it takes a big part of Phone Storage</td>\n",
       "      <td>OTHER</td>\n",
       "      <td>Feature/Functionality-Model</td>\n",
       "    </tr>\n",
       "    <tr>\n",
       "      <th>3</th>\n",
       "      <td>f9bd611d-c714-11e6-b9f8-fa163e345ce9</td>\n",
       "      <td>Bad</td>\n",
       "      <td>OTHER</td>\n",
       "      <td>Other</td>\n",
       "    </tr>\n",
       "    <tr>\n",
       "      <th>4</th>\n",
       "      <td>f9f9cddf-c714-11e6-b9f8-fa163e345ce9</td>\n",
       "      <td>Best app</td>\n",
       "      <td>OTHER</td>\n",
       "      <td>App</td>\n",
       "    </tr>\n",
       "  </tbody>\n",
       "</table>\n",
       "</div>"
      ],
      "text/plain": [
       "                                     id  \\\n",
       "0  f80a32d6-c714-11e6-b9f8-fa163e345ce9   \n",
       "1  f8456718-c714-11e6-b9f8-fa163e345ce9   \n",
       "2  f8aa1c5b-c714-11e6-b9f8-fa163e345ce9   \n",
       "3  f9bd611d-c714-11e6-b9f8-fa163e345ce9   \n",
       "4  f9f9cddf-c714-11e6-b9f8-fa163e345ce9   \n",
       "\n",
       "                                         review intention  \\\n",
       "0                     Hey I am using what's app     OTHER   \n",
       "1                             Rajesh Beragi133a     OTHER   \n",
       "2  UselEss it takes a big part of Phone Storage     OTHER   \n",
       "3                                           Bad     OTHER   \n",
       "4                                      Best app     OTHER   \n",
       "\n",
       "                         topic  \n",
       "0    App-Feature/Functionality  \n",
       "1                        Other  \n",
       "2  Feature/Functionality-Model  \n",
       "3                        Other  \n",
       "4                          App  "
      ]
     },
     "execution_count": 8,
     "metadata": {},
     "output_type": "execute_result"
    }
   ],
   "source": [
    "df = pd.read_csv(\"/kaggle/input/sbercode-1/sentences.csv\", encoding=\"ISO-8859-1\")\n",
    "\n",
    "df.head()"
   ]
  },
  {
   "cell_type": "code",
   "execution_count": 9,
   "metadata": {},
   "outputs": [],
   "source": [
    "from sklearn.preprocessing import LabelEncoder"
   ]
  },
  {
   "cell_type": "code",
   "execution_count": 10,
   "metadata": {},
   "outputs": [],
   "source": [
    "target_encoder = LabelEncoder()"
   ]
  },
  {
   "cell_type": "code",
   "execution_count": 11,
   "metadata": {},
   "outputs": [
    {
     "data": {
      "text/html": [
       "<div>\n",
       "<style scoped>\n",
       "    .dataframe tbody tr th:only-of-type {\n",
       "        vertical-align: middle;\n",
       "    }\n",
       "\n",
       "    .dataframe tbody tr th {\n",
       "        vertical-align: top;\n",
       "    }\n",
       "\n",
       "    .dataframe thead th {\n",
       "        text-align: right;\n",
       "    }\n",
       "</style>\n",
       "<table border=\"1\" class=\"dataframe\">\n",
       "  <thead>\n",
       "    <tr style=\"text-align: right;\">\n",
       "      <th></th>\n",
       "      <th>id</th>\n",
       "      <th>review</th>\n",
       "      <th>intention</th>\n",
       "      <th>topic</th>\n",
       "      <th>target</th>\n",
       "    </tr>\n",
       "  </thead>\n",
       "  <tbody>\n",
       "    <tr>\n",
       "      <th>0</th>\n",
       "      <td>f80a32d6-c714-11e6-b9f8-fa163e345ce9</td>\n",
       "      <td>Hey I am using what's app</td>\n",
       "      <td>OTHER</td>\n",
       "      <td>App-Feature/Functionality</td>\n",
       "      <td>3</td>\n",
       "    </tr>\n",
       "    <tr>\n",
       "      <th>1</th>\n",
       "      <td>f8456718-c714-11e6-b9f8-fa163e345ce9</td>\n",
       "      <td>Rajesh Beragi133a</td>\n",
       "      <td>OTHER</td>\n",
       "      <td>Other</td>\n",
       "      <td>3</td>\n",
       "    </tr>\n",
       "    <tr>\n",
       "      <th>2</th>\n",
       "      <td>f8aa1c5b-c714-11e6-b9f8-fa163e345ce9</td>\n",
       "      <td>UselEss it takes a big part of Phone Storage</td>\n",
       "      <td>OTHER</td>\n",
       "      <td>Feature/Functionality-Model</td>\n",
       "      <td>3</td>\n",
       "    </tr>\n",
       "    <tr>\n",
       "      <th>3</th>\n",
       "      <td>f9bd611d-c714-11e6-b9f8-fa163e345ce9</td>\n",
       "      <td>Bad</td>\n",
       "      <td>OTHER</td>\n",
       "      <td>Other</td>\n",
       "      <td>3</td>\n",
       "    </tr>\n",
       "    <tr>\n",
       "      <th>4</th>\n",
       "      <td>f9f9cddf-c714-11e6-b9f8-fa163e345ce9</td>\n",
       "      <td>Best app</td>\n",
       "      <td>OTHER</td>\n",
       "      <td>App</td>\n",
       "      <td>3</td>\n",
       "    </tr>\n",
       "  </tbody>\n",
       "</table>\n",
       "</div>"
      ],
      "text/plain": [
       "                                     id  \\\n",
       "0  f80a32d6-c714-11e6-b9f8-fa163e345ce9   \n",
       "1  f8456718-c714-11e6-b9f8-fa163e345ce9   \n",
       "2  f8aa1c5b-c714-11e6-b9f8-fa163e345ce9   \n",
       "3  f9bd611d-c714-11e6-b9f8-fa163e345ce9   \n",
       "4  f9f9cddf-c714-11e6-b9f8-fa163e345ce9   \n",
       "\n",
       "                                         review intention  \\\n",
       "0                     Hey I am using what's app     OTHER   \n",
       "1                             Rajesh Beragi133a     OTHER   \n",
       "2  UselEss it takes a big part of Phone Storage     OTHER   \n",
       "3                                           Bad     OTHER   \n",
       "4                                      Best app     OTHER   \n",
       "\n",
       "                         topic  target  \n",
       "0    App-Feature/Functionality       3  \n",
       "1                        Other       3  \n",
       "2  Feature/Functionality-Model       3  \n",
       "3                        Other       3  \n",
       "4                          App       3  "
      ]
     },
     "execution_count": 11,
     "metadata": {},
     "output_type": "execute_result"
    }
   ],
   "source": [
    "df['target'] = target_encoder.fit_transform(df['intention'])\n",
    "\n",
    "df.head()"
   ]
  },
  {
   "cell_type": "code",
   "execution_count": 12,
   "metadata": {},
   "outputs": [
    {
     "data": {
      "text/html": [
       "<div>\n",
       "<style scoped>\n",
       "    .dataframe tbody tr th:only-of-type {\n",
       "        vertical-align: middle;\n",
       "    }\n",
       "\n",
       "    .dataframe tbody tr th {\n",
       "        vertical-align: top;\n",
       "    }\n",
       "\n",
       "    .dataframe thead th {\n",
       "        text-align: right;\n",
       "    }\n",
       "</style>\n",
       "<table border=\"1\" class=\"dataframe\">\n",
       "  <thead>\n",
       "    <tr style=\"text-align: right;\">\n",
       "      <th></th>\n",
       "      <th>review</th>\n",
       "      <th>target</th>\n",
       "    </tr>\n",
       "  </thead>\n",
       "  <tbody>\n",
       "    <tr>\n",
       "      <th>123594</th>\n",
       "      <td>Addictive</td>\n",
       "      <td>3</td>\n",
       "    </tr>\n",
       "    <tr>\n",
       "      <th>90831</th>\n",
       "      <td>Just love it</td>\n",
       "      <td>3</td>\n",
       "    </tr>\n",
       "    <tr>\n",
       "      <th>320320</th>\n",
       "      <td>This app is amazing!</td>\n",
       "      <td>3</td>\n",
       "    </tr>\n",
       "    <tr>\n",
       "      <th>151647</th>\n",
       "      <td>Come on NPR.</td>\n",
       "      <td>3</td>\n",
       "    </tr>\n",
       "    <tr>\n",
       "      <th>46249</th>\n",
       "      <td>Nice</td>\n",
       "      <td>3</td>\n",
       "    </tr>\n",
       "  </tbody>\n",
       "</table>\n",
       "</div>"
      ],
      "text/plain": [
       "                      review  target\n",
       "123594             Addictive       3\n",
       "90831           Just love it       3\n",
       "320320  This app is amazing!       3\n",
       "151647          Come on NPR.       3\n",
       "46249                   Nice       3"
      ]
     },
     "execution_count": 12,
     "metadata": {},
     "output_type": "execute_result"
    }
   ],
   "source": [
    "df_other = df[df['intention'] == 'OTHER']\n",
    "df_not_other = df[df['intention'] != 'OTHER']\n",
    "\n",
    "train = pd.concat([df_other[['review', 'target']].sample(40000),\n",
    "                   df_not_other[['review', 'target']]])\n",
    "\n",
    "train.head()"
   ]
  },
  {
   "cell_type": "code",
   "execution_count": 13,
   "metadata": {},
   "outputs": [],
   "source": [
    "from keras.utils import to_categorical"
   ]
  },
  {
   "cell_type": "code",
   "execution_count": 14,
   "metadata": {},
   "outputs": [
    {
     "name": "stdout",
     "output_type": "stream",
     "text": [
      "CPU times: user 20.5 s, sys: 379 ms, total: 20.8 s\n",
      "Wall time: 20.8 s\n"
     ]
    }
   ],
   "source": [
    "%%time \n",
    "\n",
    "x = regular_encode(train.review.values, tokenizer, maxlen=MAX_LEN)\n",
    "y = to_categorical(train.target)"
   ]
  },
  {
   "cell_type": "code",
   "execution_count": 15,
   "metadata": {},
   "outputs": [],
   "source": [
    "from sklearn.model_selection import train_test_split"
   ]
  },
  {
   "cell_type": "code",
   "execution_count": 16,
   "metadata": {},
   "outputs": [],
   "source": [
    "x_train, x_valid, y_train, y_valid = train_test_split(x, y, test_size=0.1)\n",
    "\n",
    "# x_train = x_train[:10000]\n",
    "# y_train = y_train[:10000]"
   ]
  },
  {
   "cell_type": "code",
   "execution_count": 17,
   "metadata": {},
   "outputs": [
    {
     "data": {
      "text/plain": [
       "(12129, 192)"
      ]
     },
     "execution_count": 17,
     "metadata": {},
     "output_type": "execute_result"
    }
   ],
   "source": [
    "x_valid.shape"
   ]
  },
  {
   "cell_type": "markdown",
   "metadata": {},
   "source": [
    "## Build datasets objects"
   ]
  },
  {
   "cell_type": "code",
   "execution_count": 18,
   "metadata": {},
   "outputs": [],
   "source": [
    "train_dataset = (\n",
    "    tf.data.Dataset\n",
    "    .from_tensor_slices((x_train, y_train))\n",
    "    .repeat()\n",
    "    .shuffle(2048)\n",
    "    .batch(BATCH_SIZE)\n",
    "    .prefetch(AUTO)\n",
    ")\n",
    "\n",
    "valid_dataset = (\n",
    "    tf.data.Dataset\n",
    "    .from_tensor_slices((x_valid, y_valid))\n",
    "    .batch(BATCH_SIZE)\n",
    "    .cache()\n",
    "    .prefetch(AUTO)\n",
    ")"
   ]
  },
  {
   "cell_type": "markdown",
   "metadata": {},
   "source": [
    "## Load model into the TPU"
   ]
  },
  {
   "cell_type": "code",
   "execution_count": 19,
   "metadata": {},
   "outputs": [
    {
     "data": {
      "application/vnd.jupyter.widget-view+json": {
       "model_id": "6f41d224e2ce4ff19df24c1bcc4947b7",
       "version_major": 2,
       "version_minor": 0
      },
      "text/plain": [
       "HBox(children=(FloatProgress(value=0.0, description='Downloading', max=3271420488.0, style=ProgressStyle(descr…"
      ]
     },
     "metadata": {},
     "output_type": "display_data"
    },
    {
     "name": "stdout",
     "output_type": "stream",
     "text": [
      "\n",
      "Model: \"model\"\n",
      "_________________________________________________________________\n",
      "Layer (type)                 Output Shape              Param #   \n",
      "=================================================================\n",
      "input_word_ids (InputLayer)  [(None, 192)]             0         \n",
      "_________________________________________________________________\n",
      "tf_roberta_model (TFRobertaM ((None, 192, 1024), (None 559890432 \n",
      "_________________________________________________________________\n",
      "tf_op_layer_strided_slice (T [(None, 1024)]            0         \n",
      "_________________________________________________________________\n",
      "dense (Dense)                (None, 5)                 5125      \n",
      "=================================================================\n",
      "Total params: 559,895,557\n",
      "Trainable params: 559,895,557\n",
      "Non-trainable params: 0\n",
      "_________________________________________________________________\n",
      "CPU times: user 2min 18s, sys: 44.7 s, total: 3min 3s\n",
      "Wall time: 8min 49s\n"
     ]
    }
   ],
   "source": [
    "%%time\n",
    "\n",
    "with strategy.scope():\n",
    "    transformer_layer = TFAutoModel.from_pretrained(MODEL)\n",
    "    model = build_model(transformer_layer, max_len=MAX_LEN)\n",
    "\n",
    "model.summary()"
   ]
  },
  {
   "cell_type": "markdown",
   "metadata": {},
   "source": [
    "## Train Model"
   ]
  },
  {
   "cell_type": "code",
   "execution_count": 20,
   "metadata": {},
   "outputs": [
    {
     "name": "stdout",
     "output_type": "stream",
     "text": [
      "Epoch 1/2\n"
     ]
    },
    {
     "name": "stderr",
     "output_type": "stream",
     "text": [
      "/opt/conda/lib/python3.7/site-packages/tensorflow/python/framework/indexed_slices.py:431: UserWarning: Converting sparse IndexedSlices to a dense Tensor with 256002048 elements. This may consume a large amount of memory.\n",
      "  num_elements)\n"
     ]
    },
    {
     "name": "stdout",
     "output_type": "stream",
     "text": [
      "852/852 [==============================] - 400s 470ms/step - accuracy: 0.7151 - loss: 0.7272 - val_accuracy: 0.8259 - val_loss: 0.4778\n",
      "Epoch 2/2\n",
      "852/852 [==============================] - 366s 429ms/step - accuracy: 0.8495 - loss: 0.4006 - val_accuracy: 0.8620 - val_loss: 0.3840\n"
     ]
    }
   ],
   "source": [
    "n_steps = x_train.shape[0] // BATCH_SIZE\n",
    "train_history = model.fit(\n",
    "    train_dataset,\n",
    "    steps_per_epoch=n_steps,\n",
    "    validation_data=valid_dataset,\n",
    "    epochs=EPOCHS\n",
    ")"
   ]
  },
  {
   "cell_type": "markdown",
   "metadata": {},
   "source": [
    "## Saving weights"
   ]
  },
  {
   "cell_type": "code",
   "execution_count": 21,
   "metadata": {},
   "outputs": [],
   "source": [
    "import pickle"
   ]
  },
  {
   "cell_type": "code",
   "execution_count": 22,
   "metadata": {},
   "outputs": [
    {
     "name": "stdout",
     "output_type": "stream",
     "text": [
      "CPU times: user 2.19 s, sys: 6.29 s, total: 8.48 s\n",
      "Wall time: 9.98 s\n"
     ]
    }
   ],
   "source": [
    "%%time\n",
    "\n",
    "with strategy.scope():\n",
    "    w = model.get_weights()\n",
    "    \n",
    "    with open('weights_5.npy', 'wb') as f:\n",
    "        np.save(f, w)"
   ]
  },
  {
   "cell_type": "code",
   "execution_count": 23,
   "metadata": {},
   "outputs": [
    {
     "data": {
      "text/html": [
       "<a href='weights_5.npy' target='_blank'>weights_5.npy</a><br>"
      ],
      "text/plain": [
       "/kaggle/working/weights_5.npy"
      ]
     },
     "execution_count": 23,
     "metadata": {},
     "output_type": "execute_result"
    }
   ],
   "source": [
    "from IPython.display import FileLink\n",
    "FileLink(r'weights_5.npy')"
   ]
  },
  {
   "cell_type": "code",
   "execution_count": 24,
   "metadata": {},
   "outputs": [],
   "source": [
    "with open('label_encoder_5.pkl', 'wb') as f:\n",
    "    pickle.dump(target_encoder, f)"
   ]
  },
  {
   "cell_type": "code",
   "execution_count": 25,
   "metadata": {},
   "outputs": [],
   "source": [
    "# transformer_layer_1 = TFAutoModel.from_pretrained(MODEL)\n",
    "# model_1 = build_model(transformer_layer_1, max_len=MAX_LEN)\n",
    "# model_1.set_weights(w)"
   ]
  },
  {
   "cell_type": "code",
   "execution_count": 26,
   "metadata": {},
   "outputs": [],
   "source": [
    "# model_1.predict(valid_dataset, verbose=1)"
   ]
  },
  {
   "cell_type": "markdown",
   "metadata": {},
   "source": [
    "## Creating final wrapper-predictor"
   ]
  },
  {
   "cell_type": "code",
   "execution_count": 27,
   "metadata": {},
   "outputs": [],
   "source": [
    "class IntentionPredictor:\n",
    "    def __init__(self, model, tokenizer, label_encoder, batch_size=4, max_len=192, verbose=0):\n",
    "        self._model = model\n",
    "        self._tokenizer = tokenizer\n",
    "        self._label_encoder = label_encoder\n",
    "        self._batch_size = batch_size\n",
    "        self._max_len = max_len\n",
    "        self._verbose = verbose\n",
    "        \n",
    "    @staticmethod\n",
    "    def _regular_encode(texts, tokenizer, maxlen=512):\n",
    "        enc_di = tokenizer.batch_encode_plus(\n",
    "            texts, \n",
    "            return_attention_masks=False, \n",
    "            return_token_type_ids=False,\n",
    "            pad_to_max_length=True,\n",
    "            max_length=maxlen\n",
    "        )\n",
    "    \n",
    "        return np.array(enc_di['input_ids'])\n",
    "        \n",
    "    def predict(self, texts):\n",
    "        input_texts = np.asarray(texts)\n",
    "        x_test = self._regular_encode(input_texts, self._tokenizer, maxlen=self._max_len)\n",
    "        \n",
    "        test_dataset = (\n",
    "            tf.data.Dataset\n",
    "            .from_tensor_slices(x_test)\n",
    "            .batch(self._batch_size)\n",
    "        )\n",
    "        \n",
    "        y_test = np.asarray(self._model.predict(test_dataset, verbose=self._verbose))\n",
    "        categories = []\n",
    "        \n",
    "        for probs in y_test:\n",
    "            category = np.argmax(probs)\n",
    "            categories.append(category)\n",
    "            \n",
    "        return self._label_encoder.inverse_transform(categories)"
   ]
  },
  {
   "cell_type": "code",
   "execution_count": 28,
   "metadata": {},
   "outputs": [],
   "source": [
    "predictor = IntentionPredictor(model, tokenizer, target_encoder, batch_size=BATCH_SIZE, max_len=MAX_LEN, verbose=1)"
   ]
  },
  {
   "cell_type": "markdown",
   "metadata": {},
   "source": [
    "## Getting predictions for real dataset"
   ]
  },
  {
   "cell_type": "code",
   "execution_count": 30,
   "metadata": {},
   "outputs": [
    {
     "data": {
      "text/html": [
       "<div>\n",
       "<style scoped>\n",
       "    .dataframe tbody tr th:only-of-type {\n",
       "        vertical-align: middle;\n",
       "    }\n",
       "\n",
       "    .dataframe tbody tr th {\n",
       "        vertical-align: top;\n",
       "    }\n",
       "\n",
       "    .dataframe thead th {\n",
       "        text-align: right;\n",
       "    }\n",
       "</style>\n",
       "<table border=\"1\" class=\"dataframe\">\n",
       "  <thead>\n",
       "    <tr style=\"text-align: right;\">\n",
       "      <th></th>\n",
       "      <th>Unnamed: 0</th>\n",
       "      <th>Date</th>\n",
       "      <th>App version</th>\n",
       "      <th>Rating</th>\n",
       "      <th>Title</th>\n",
       "      <th>Review</th>\n",
       "      <th>Country</th>\n",
       "      <th>Link</th>\n",
       "      <th>Platform</th>\n",
       "    </tr>\n",
       "  </thead>\n",
       "  <tbody>\n",
       "    <tr>\n",
       "      <th>0</th>\n",
       "      <td>0</td>\n",
       "      <td>2020-07-29 06:53:05</td>\n",
       "      <td>11.1.0</td>\n",
       "      <td>5</td>\n",
       "      <td>Сбербанк онлайн</td>\n",
       "      <td>Не скачивается стала обновлять и зависло прило...</td>\n",
       "      <td>ru</td>\n",
       "      <td>https://appstoreconnect.apple.com/WebObjects/i...</td>\n",
       "      <td>App Store</td>\n",
       "    </tr>\n",
       "    <tr>\n",
       "      <th>1</th>\n",
       "      <td>1</td>\n",
       "      <td>2020-07-29 06:28:50</td>\n",
       "      <td>11.1.0</td>\n",
       "      <td>3</td>\n",
       "      <td>.</td>\n",
       "      <td>Приложение не открывается после обновления!!!!...</td>\n",
       "      <td>ru</td>\n",
       "      <td>https://appstoreconnect.apple.com/WebObjects/i...</td>\n",
       "      <td>App Store</td>\n",
       "    </tr>\n",
       "    <tr>\n",
       "      <th>2</th>\n",
       "      <td>2</td>\n",
       "      <td>2020-07-29 05:23:33</td>\n",
       "      <td>11.1.0</td>\n",
       "      <td>3</td>\n",
       "      <td>Касательно работы обновлённой версии</td>\n",
       "      <td>Добрый день, после последнего обновления пропа...</td>\n",
       "      <td>ru</td>\n",
       "      <td>https://appstoreconnect.apple.com/WebObjects/i...</td>\n",
       "      <td>App Store</td>\n",
       "    </tr>\n",
       "    <tr>\n",
       "      <th>3</th>\n",
       "      <td>3</td>\n",
       "      <td>2020-07-29 03:06:06</td>\n",
       "      <td>11.1.0</td>\n",
       "      <td>1</td>\n",
       "      <td>.</td>\n",
       "      <td>Не могу скачать так как требует подключения Wi-fi</td>\n",
       "      <td>ru</td>\n",
       "      <td>https://appstoreconnect.apple.com/WebObjects/i...</td>\n",
       "      <td>App Store</td>\n",
       "    </tr>\n",
       "    <tr>\n",
       "      <th>4</th>\n",
       "      <td>4</td>\n",
       "      <td>2020-07-29 01:47:35</td>\n",
       "      <td>11.1.0</td>\n",
       "      <td>1</td>\n",
       "      <td>ApplePay</td>\n",
       "      <td>Почему то не могу оплатить при минусе на балан...</td>\n",
       "      <td>ru</td>\n",
       "      <td>https://appstoreconnect.apple.com/WebObjects/i...</td>\n",
       "      <td>App Store</td>\n",
       "    </tr>\n",
       "  </tbody>\n",
       "</table>\n",
       "</div>"
      ],
      "text/plain": [
       "   Unnamed: 0                 Date App version  Rating  \\\n",
       "0           0  2020-07-29 06:53:05      11.1.0       5   \n",
       "1           1  2020-07-29 06:28:50      11.1.0       3   \n",
       "2           2  2020-07-29 05:23:33      11.1.0       3   \n",
       "3           3  2020-07-29 03:06:06      11.1.0       1   \n",
       "4           4  2020-07-29 01:47:35      11.1.0       1   \n",
       "\n",
       "                                  Title  \\\n",
       "0                       Сбербанк онлайн   \n",
       "1                                     .   \n",
       "2  Касательно работы обновлённой версии   \n",
       "3                                     .   \n",
       "4                              ApplePay   \n",
       "\n",
       "                                              Review Country  \\\n",
       "0  Не скачивается стала обновлять и зависло прило...      ru   \n",
       "1  Приложение не открывается после обновления!!!!...      ru   \n",
       "2  Добрый день, после последнего обновления пропа...      ru   \n",
       "3  Не могу скачать так как требует подключения Wi-fi      ru   \n",
       "4  Почему то не могу оплатить при минусе на балан...      ru   \n",
       "\n",
       "                                                Link   Platform  \n",
       "0  https://appstoreconnect.apple.com/WebObjects/i...  App Store  \n",
       "1  https://appstoreconnect.apple.com/WebObjects/i...  App Store  \n",
       "2  https://appstoreconnect.apple.com/WebObjects/i...  App Store  \n",
       "3  https://appstoreconnect.apple.com/WebObjects/i...  App Store  \n",
       "4  https://appstoreconnect.apple.com/WebObjects/i...  App Store  "
      ]
     },
     "execution_count": 30,
     "metadata": {},
     "output_type": "execute_result"
    }
   ],
   "source": [
    "df_test = pd.read_csv('/kaggle/input/sbercode-2/all_reviews_v3.tsv', sep='\\t')\n",
    "\n",
    "df_test.head()"
   ]
  },
  {
   "cell_type": "code",
   "execution_count": 31,
   "metadata": {},
   "outputs": [
    {
     "data": {
      "text/html": [
       "<div>\n",
       "<style scoped>\n",
       "    .dataframe tbody tr th:only-of-type {\n",
       "        vertical-align: middle;\n",
       "    }\n",
       "\n",
       "    .dataframe tbody tr th {\n",
       "        vertical-align: top;\n",
       "    }\n",
       "\n",
       "    .dataframe thead th {\n",
       "        text-align: right;\n",
       "    }\n",
       "</style>\n",
       "<table border=\"1\" class=\"dataframe\">\n",
       "  <thead>\n",
       "    <tr style=\"text-align: right;\">\n",
       "      <th></th>\n",
       "      <th>Unnamed: 0</th>\n",
       "      <th>Date</th>\n",
       "      <th>App version</th>\n",
       "      <th>Rating</th>\n",
       "      <th>Title</th>\n",
       "      <th>Review</th>\n",
       "      <th>Country</th>\n",
       "      <th>Link</th>\n",
       "      <th>Platform</th>\n",
       "    </tr>\n",
       "  </thead>\n",
       "  <tbody>\n",
       "    <tr>\n",
       "      <th>0</th>\n",
       "      <td>0</td>\n",
       "      <td>2020-07-29 06:53:05</td>\n",
       "      <td>11.1.0</td>\n",
       "      <td>5</td>\n",
       "      <td>Сбербанк онлайн</td>\n",
       "      <td>Не скачивается стала обновлять и зависло прило...</td>\n",
       "      <td>ru</td>\n",
       "      <td>https://appstoreconnect.apple.com/WebObjects/i...</td>\n",
       "      <td>App Store</td>\n",
       "    </tr>\n",
       "    <tr>\n",
       "      <th>1</th>\n",
       "      <td>1</td>\n",
       "      <td>2020-07-29 06:28:50</td>\n",
       "      <td>11.1.0</td>\n",
       "      <td>3</td>\n",
       "      <td>.</td>\n",
       "      <td>Приложение не открывается после обновления!!!!...</td>\n",
       "      <td>ru</td>\n",
       "      <td>https://appstoreconnect.apple.com/WebObjects/i...</td>\n",
       "      <td>App Store</td>\n",
       "    </tr>\n",
       "    <tr>\n",
       "      <th>2</th>\n",
       "      <td>2</td>\n",
       "      <td>2020-07-29 05:23:33</td>\n",
       "      <td>11.1.0</td>\n",
       "      <td>3</td>\n",
       "      <td>Касательно работы обновлённой версии</td>\n",
       "      <td>Добрый день, после последнего обновления пропа...</td>\n",
       "      <td>ru</td>\n",
       "      <td>https://appstoreconnect.apple.com/WebObjects/i...</td>\n",
       "      <td>App Store</td>\n",
       "    </tr>\n",
       "    <tr>\n",
       "      <th>3</th>\n",
       "      <td>3</td>\n",
       "      <td>2020-07-29 03:06:06</td>\n",
       "      <td>11.1.0</td>\n",
       "      <td>1</td>\n",
       "      <td>.</td>\n",
       "      <td>Не могу скачать так как требует подключения Wi-fi</td>\n",
       "      <td>ru</td>\n",
       "      <td>https://appstoreconnect.apple.com/WebObjects/i...</td>\n",
       "      <td>App Store</td>\n",
       "    </tr>\n",
       "    <tr>\n",
       "      <th>4</th>\n",
       "      <td>4</td>\n",
       "      <td>2020-07-29 01:47:35</td>\n",
       "      <td>11.1.0</td>\n",
       "      <td>1</td>\n",
       "      <td>ApplePay</td>\n",
       "      <td>Почему то не могу оплатить при минусе на балан...</td>\n",
       "      <td>ru</td>\n",
       "      <td>https://appstoreconnect.apple.com/WebObjects/i...</td>\n",
       "      <td>App Store</td>\n",
       "    </tr>\n",
       "  </tbody>\n",
       "</table>\n",
       "</div>"
      ],
      "text/plain": [
       "   Unnamed: 0                 Date App version  Rating  \\\n",
       "0           0  2020-07-29 06:53:05      11.1.0       5   \n",
       "1           1  2020-07-29 06:28:50      11.1.0       3   \n",
       "2           2  2020-07-29 05:23:33      11.1.0       3   \n",
       "3           3  2020-07-29 03:06:06      11.1.0       1   \n",
       "4           4  2020-07-29 01:47:35      11.1.0       1   \n",
       "\n",
       "                                  Title  \\\n",
       "0                       Сбербанк онлайн   \n",
       "1                                     .   \n",
       "2  Касательно работы обновлённой версии   \n",
       "3                                     .   \n",
       "4                              ApplePay   \n",
       "\n",
       "                                              Review Country  \\\n",
       "0  Не скачивается стала обновлять и зависло прило...      ru   \n",
       "1  Приложение не открывается после обновления!!!!...      ru   \n",
       "2  Добрый день, после последнего обновления пропа...      ru   \n",
       "3  Не могу скачать так как требует подключения Wi-fi      ru   \n",
       "4  Почему то не могу оплатить при минусе на балан...      ru   \n",
       "\n",
       "                                                Link   Platform  \n",
       "0  https://appstoreconnect.apple.com/WebObjects/i...  App Store  \n",
       "1  https://appstoreconnect.apple.com/WebObjects/i...  App Store  \n",
       "2  https://appstoreconnect.apple.com/WebObjects/i...  App Store  \n",
       "3  https://appstoreconnect.apple.com/WebObjects/i...  App Store  \n",
       "4  https://appstoreconnect.apple.com/WebObjects/i...  App Store  "
      ]
     },
     "execution_count": 31,
     "metadata": {},
     "output_type": "execute_result"
    }
   ],
   "source": [
    "mask = ~pd.isna(df_test['Review'])\n",
    "\n",
    "df_test[mask].head()"
   ]
  },
  {
   "cell_type": "code",
   "execution_count": 32,
   "metadata": {},
   "outputs": [
    {
     "name": "stdout",
     "output_type": "stream",
     "text": [
      "5264/5264 [==============================] - 606s 115ms/step\n"
     ]
    },
    {
     "data": {
      "text/html": [
       "<div>\n",
       "<style scoped>\n",
       "    .dataframe tbody tr th:only-of-type {\n",
       "        vertical-align: middle;\n",
       "    }\n",
       "\n",
       "    .dataframe tbody tr th {\n",
       "        vertical-align: top;\n",
       "    }\n",
       "\n",
       "    .dataframe thead th {\n",
       "        text-align: right;\n",
       "    }\n",
       "</style>\n",
       "<table border=\"1\" class=\"dataframe\">\n",
       "  <thead>\n",
       "    <tr style=\"text-align: right;\">\n",
       "      <th></th>\n",
       "      <th>Unnamed: 0</th>\n",
       "      <th>Date</th>\n",
       "      <th>App version</th>\n",
       "      <th>Rating</th>\n",
       "      <th>Title</th>\n",
       "      <th>Review</th>\n",
       "      <th>Country</th>\n",
       "      <th>Link</th>\n",
       "      <th>Platform</th>\n",
       "      <th>Intention</th>\n",
       "    </tr>\n",
       "  </thead>\n",
       "  <tbody>\n",
       "    <tr>\n",
       "      <th>0</th>\n",
       "      <td>0</td>\n",
       "      <td>2020-07-29 06:53:05</td>\n",
       "      <td>11.1.0</td>\n",
       "      <td>5</td>\n",
       "      <td>Сбербанк онлайн</td>\n",
       "      <td>Не скачивается стала обновлять и зависло прило...</td>\n",
       "      <td>ru</td>\n",
       "      <td>https://appstoreconnect.apple.com/WebObjects/i...</td>\n",
       "      <td>App Store</td>\n",
       "      <td>OTHER</td>\n",
       "    </tr>\n",
       "    <tr>\n",
       "      <th>1</th>\n",
       "      <td>1</td>\n",
       "      <td>2020-07-29 06:28:50</td>\n",
       "      <td>11.1.0</td>\n",
       "      <td>3</td>\n",
       "      <td>.</td>\n",
       "      <td>Приложение не открывается после обновления!!!!...</td>\n",
       "      <td>ru</td>\n",
       "      <td>https://appstoreconnect.apple.com/WebObjects/i...</td>\n",
       "      <td>App Store</td>\n",
       "      <td>PROBLEM DISCOVERY</td>\n",
       "    </tr>\n",
       "    <tr>\n",
       "      <th>2</th>\n",
       "      <td>2</td>\n",
       "      <td>2020-07-29 05:23:33</td>\n",
       "      <td>11.1.0</td>\n",
       "      <td>3</td>\n",
       "      <td>Касательно работы обновлённой версии</td>\n",
       "      <td>Добрый день, после последнего обновления пропа...</td>\n",
       "      <td>ru</td>\n",
       "      <td>https://appstoreconnect.apple.com/WebObjects/i...</td>\n",
       "      <td>App Store</td>\n",
       "      <td>OTHER</td>\n",
       "    </tr>\n",
       "    <tr>\n",
       "      <th>3</th>\n",
       "      <td>3</td>\n",
       "      <td>2020-07-29 03:06:06</td>\n",
       "      <td>11.1.0</td>\n",
       "      <td>1</td>\n",
       "      <td>.</td>\n",
       "      <td>Не могу скачать так как требует подключения Wi-fi</td>\n",
       "      <td>ru</td>\n",
       "      <td>https://appstoreconnect.apple.com/WebObjects/i...</td>\n",
       "      <td>App Store</td>\n",
       "      <td>PROBLEM DISCOVERY</td>\n",
       "    </tr>\n",
       "    <tr>\n",
       "      <th>4</th>\n",
       "      <td>4</td>\n",
       "      <td>2020-07-29 01:47:35</td>\n",
       "      <td>11.1.0</td>\n",
       "      <td>1</td>\n",
       "      <td>ApplePay</td>\n",
       "      <td>Почему то не могу оплатить при минусе на балан...</td>\n",
       "      <td>ru</td>\n",
       "      <td>https://appstoreconnect.apple.com/WebObjects/i...</td>\n",
       "      <td>App Store</td>\n",
       "      <td>PROBLEM DISCOVERY</td>\n",
       "    </tr>\n",
       "  </tbody>\n",
       "</table>\n",
       "</div>"
      ],
      "text/plain": [
       "   Unnamed: 0                 Date App version  Rating  \\\n",
       "0           0  2020-07-29 06:53:05      11.1.0       5   \n",
       "1           1  2020-07-29 06:28:50      11.1.0       3   \n",
       "2           2  2020-07-29 05:23:33      11.1.0       3   \n",
       "3           3  2020-07-29 03:06:06      11.1.0       1   \n",
       "4           4  2020-07-29 01:47:35      11.1.0       1   \n",
       "\n",
       "                                  Title  \\\n",
       "0                       Сбербанк онлайн   \n",
       "1                                     .   \n",
       "2  Касательно работы обновлённой версии   \n",
       "3                                     .   \n",
       "4                              ApplePay   \n",
       "\n",
       "                                              Review Country  \\\n",
       "0  Не скачивается стала обновлять и зависло прило...      ru   \n",
       "1  Приложение не открывается после обновления!!!!...      ru   \n",
       "2  Добрый день, после последнего обновления пропа...      ru   \n",
       "3  Не могу скачать так как требует подключения Wi-fi      ru   \n",
       "4  Почему то не могу оплатить при минусе на балан...      ru   \n",
       "\n",
       "                                                Link   Platform  \\\n",
       "0  https://appstoreconnect.apple.com/WebObjects/i...  App Store   \n",
       "1  https://appstoreconnect.apple.com/WebObjects/i...  App Store   \n",
       "2  https://appstoreconnect.apple.com/WebObjects/i...  App Store   \n",
       "3  https://appstoreconnect.apple.com/WebObjects/i...  App Store   \n",
       "4  https://appstoreconnect.apple.com/WebObjects/i...  App Store   \n",
       "\n",
       "           Intention  \n",
       "0              OTHER  \n",
       "1  PROBLEM DISCOVERY  \n",
       "2              OTHER  \n",
       "3  PROBLEM DISCOVERY  \n",
       "4  PROBLEM DISCOVERY  "
      ]
     },
     "execution_count": 32,
     "metadata": {},
     "output_type": "execute_result"
    }
   ],
   "source": [
    "df_test.loc[mask, 'Intention'] = predictor.predict(df_test[mask]['Review'].values)\n",
    "\n",
    "df_test[mask].head()"
   ]
  },
  {
   "cell_type": "code",
   "execution_count": 33,
   "metadata": {},
   "outputs": [],
   "source": [
    "df_test.to_csv('test_data_v5.tsv', sep='\\t', index=False)"
   ]
  },
  {
   "cell_type": "code",
   "execution_count": null,
   "metadata": {},
   "outputs": [],
   "source": []
  }
 ],
 "metadata": {
  "kernelspec": {
   "display_name": "Python 3",
   "language": "python",
   "name": "python3"
  },
  "language_info": {
   "codemirror_mode": {
    "name": "ipython",
    "version": 3
   },
   "file_extension": ".py",
   "mimetype": "text/x-python",
   "name": "python",
   "nbconvert_exporter": "python",
   "pygments_lexer": "ipython3",
   "version": "3.7.3"
  },
  "widgets": {
   "application/vnd.jupyter.widget-state+json": {
    "state": {
     "00769d12ed6348e1887a041d2c4ba659": {
      "model_module": "@jupyter-widgets/controls",
      "model_module_version": "1.5.0",
      "model_name": "HTMLModel",
      "state": {
       "_dom_classes": [],
       "_model_module": "@jupyter-widgets/controls",
       "_model_module_version": "1.5.0",
       "_model_name": "HTMLModel",
       "_view_count": null,
       "_view_module": "@jupyter-widgets/controls",
       "_view_module_version": "1.5.0",
       "_view_name": "HTMLView",
       "description": "",
       "description_tooltip": null,
       "layout": "IPY_MODEL_f283a3d85e2549a5a3ab0763a3ae1018",
       "placeholder": "​",
       "style": "IPY_MODEL_66f33b41a4614323a06298ebdbda6d75",
       "value": " 3.27G/3.27G [07:53&lt;00:00, 6.90MB/s]"
      }
     },
     "12fb5824d5234bb0b3ae5c52859a98e5": {
      "model_module": "@jupyter-widgets/base",
      "model_module_version": "1.2.0",
      "model_name": "LayoutModel",
      "state": {
       "_model_module": "@jupyter-widgets/base",
       "_model_module_version": "1.2.0",
       "_model_name": "LayoutModel",
       "_view_count": null,
       "_view_module": "@jupyter-widgets/base",
       "_view_module_version": "1.2.0",
       "_view_name": "LayoutView",
       "align_content": null,
       "align_items": null,
       "align_self": null,
       "border": null,
       "bottom": null,
       "display": null,
       "flex": null,
       "flex_flow": null,
       "grid_area": null,
       "grid_auto_columns": null,
       "grid_auto_flow": null,
       "grid_auto_rows": null,
       "grid_column": null,
       "grid_gap": null,
       "grid_row": null,
       "grid_template_areas": null,
       "grid_template_columns": null,
       "grid_template_rows": null,
       "height": null,
       "justify_content": null,
       "justify_items": null,
       "left": null,
       "margin": null,
       "max_height": null,
       "max_width": null,
       "min_height": null,
       "min_width": null,
       "object_fit": null,
       "object_position": null,
       "order": null,
       "overflow": null,
       "overflow_x": null,
       "overflow_y": null,
       "padding": null,
       "right": null,
       "top": null,
       "visibility": null,
       "width": null
      }
     },
     "23861d69a999430b9f2d0c05a7bdc451": {
      "model_module": "@jupyter-widgets/controls",
      "model_module_version": "1.5.0",
      "model_name": "HTMLModel",
      "state": {
       "_dom_classes": [],
       "_model_module": "@jupyter-widgets/controls",
       "_model_module_version": "1.5.0",
       "_model_name": "HTMLModel",
       "_view_count": null,
       "_view_module": "@jupyter-widgets/controls",
       "_view_module_version": "1.5.0",
       "_view_name": "HTMLView",
       "description": "",
       "description_tooltip": null,
       "layout": "IPY_MODEL_12fb5824d5234bb0b3ae5c52859a98e5",
       "placeholder": "​",
       "style": "IPY_MODEL_c93d2b452a2941b79a4275c1225aca84",
       "value": " 513/513 [00:00&lt;00:00, 1.79kB/s]"
      }
     },
     "3f6e7756a9dd4f7ebcc4ffef2370fc49": {
      "model_module": "@jupyter-widgets/controls",
      "model_module_version": "1.5.0",
      "model_name": "ProgressStyleModel",
      "state": {
       "_model_module": "@jupyter-widgets/controls",
       "_model_module_version": "1.5.0",
       "_model_name": "ProgressStyleModel",
       "_view_count": null,
       "_view_module": "@jupyter-widgets/base",
       "_view_module_version": "1.2.0",
       "_view_name": "StyleView",
       "bar_color": null,
       "description_width": "initial"
      }
     },
     "47cd7789f2bc4764b56be290fa15dfeb": {
      "model_module": "@jupyter-widgets/controls",
      "model_module_version": "1.5.0",
      "model_name": "FloatProgressModel",
      "state": {
       "_dom_classes": [],
       "_model_module": "@jupyter-widgets/controls",
       "_model_module_version": "1.5.0",
       "_model_name": "FloatProgressModel",
       "_view_count": null,
       "_view_module": "@jupyter-widgets/controls",
       "_view_module_version": "1.5.0",
       "_view_name": "ProgressView",
       "bar_style": "success",
       "description": "Downloading: 100%",
       "description_tooltip": null,
       "layout": "IPY_MODEL_89cdab6e50114f7896a01992f6b92f4c",
       "max": 513,
       "min": 0,
       "orientation": "horizontal",
       "style": "IPY_MODEL_d23f929610c34bf48839ae6a57a4852e",
       "value": 513
      }
     },
     "664816dffacc48d7b7a97a3bd4abaa76": {
      "model_module": "@jupyter-widgets/base",
      "model_module_version": "1.2.0",
      "model_name": "LayoutModel",
      "state": {
       "_model_module": "@jupyter-widgets/base",
       "_model_module_version": "1.2.0",
       "_model_name": "LayoutModel",
       "_view_count": null,
       "_view_module": "@jupyter-widgets/base",
       "_view_module_version": "1.2.0",
       "_view_name": "LayoutView",
       "align_content": null,
       "align_items": null,
       "align_self": null,
       "border": null,
       "bottom": null,
       "display": null,
       "flex": null,
       "flex_flow": null,
       "grid_area": null,
       "grid_auto_columns": null,
       "grid_auto_flow": null,
       "grid_auto_rows": null,
       "grid_column": null,
       "grid_gap": null,
       "grid_row": null,
       "grid_template_areas": null,
       "grid_template_columns": null,
       "grid_template_rows": null,
       "height": null,
       "justify_content": null,
       "justify_items": null,
       "left": null,
       "margin": null,
       "max_height": null,
       "max_width": null,
       "min_height": null,
       "min_width": null,
       "object_fit": null,
       "object_position": null,
       "order": null,
       "overflow": null,
       "overflow_x": null,
       "overflow_y": null,
       "padding": null,
       "right": null,
       "top": null,
       "visibility": null,
       "width": null
      }
     },
     "66f33b41a4614323a06298ebdbda6d75": {
      "model_module": "@jupyter-widgets/controls",
      "model_module_version": "1.5.0",
      "model_name": "DescriptionStyleModel",
      "state": {
       "_model_module": "@jupyter-widgets/controls",
       "_model_module_version": "1.5.0",
       "_model_name": "DescriptionStyleModel",
       "_view_count": null,
       "_view_module": "@jupyter-widgets/base",
       "_view_module_version": "1.2.0",
       "_view_name": "StyleView",
       "description_width": ""
      }
     },
     "6969328afc8d4c66822903943a32c943": {
      "model_module": "@jupyter-widgets/base",
      "model_module_version": "1.2.0",
      "model_name": "LayoutModel",
      "state": {
       "_model_module": "@jupyter-widgets/base",
       "_model_module_version": "1.2.0",
       "_model_name": "LayoutModel",
       "_view_count": null,
       "_view_module": "@jupyter-widgets/base",
       "_view_module_version": "1.2.0",
       "_view_name": "LayoutView",
       "align_content": null,
       "align_items": null,
       "align_self": null,
       "border": null,
       "bottom": null,
       "display": null,
       "flex": null,
       "flex_flow": null,
       "grid_area": null,
       "grid_auto_columns": null,
       "grid_auto_flow": null,
       "grid_auto_rows": null,
       "grid_column": null,
       "grid_gap": null,
       "grid_row": null,
       "grid_template_areas": null,
       "grid_template_columns": null,
       "grid_template_rows": null,
       "height": null,
       "justify_content": null,
       "justify_items": null,
       "left": null,
       "margin": null,
       "max_height": null,
       "max_width": null,
       "min_height": null,
       "min_width": null,
       "object_fit": null,
       "object_position": null,
       "order": null,
       "overflow": null,
       "overflow_x": null,
       "overflow_y": null,
       "padding": null,
       "right": null,
       "top": null,
       "visibility": null,
       "width": null
      }
     },
     "6f41d224e2ce4ff19df24c1bcc4947b7": {
      "model_module": "@jupyter-widgets/controls",
      "model_module_version": "1.5.0",
      "model_name": "HBoxModel",
      "state": {
       "_dom_classes": [],
       "_model_module": "@jupyter-widgets/controls",
       "_model_module_version": "1.5.0",
       "_model_name": "HBoxModel",
       "_view_count": null,
       "_view_module": "@jupyter-widgets/controls",
       "_view_module_version": "1.5.0",
       "_view_name": "HBoxView",
       "box_style": "",
       "children": [
        "IPY_MODEL_c7a499eebbc9477fb3be85f372b7fc81",
        "IPY_MODEL_00769d12ed6348e1887a041d2c4ba659"
       ],
       "layout": "IPY_MODEL_d716519e9ef44d7fa091d183670af107"
      }
     },
     "836deb3e78c84cdd9017860a3ee2bc8e": {
      "model_module": "@jupyter-widgets/controls",
      "model_module_version": "1.5.0",
      "model_name": "HTMLModel",
      "state": {
       "_dom_classes": [],
       "_model_module": "@jupyter-widgets/controls",
       "_model_module_version": "1.5.0",
       "_model_name": "HTMLModel",
       "_view_count": null,
       "_view_module": "@jupyter-widgets/controls",
       "_view_module_version": "1.5.0",
       "_view_name": "HTMLView",
       "description": "",
       "description_tooltip": null,
       "layout": "IPY_MODEL_664816dffacc48d7b7a97a3bd4abaa76",
       "placeholder": "​",
       "style": "IPY_MODEL_de28a6cf670c40cea01886e8cb0ec347",
       "value": " 5.07M/5.07M [00:02&lt;00:00, 1.86MB/s]"
      }
     },
     "8678b5b0a70b4ee7a9b0cc2f4a8f3f42": {
      "model_module": "@jupyter-widgets/controls",
      "model_module_version": "1.5.0",
      "model_name": "HBoxModel",
      "state": {
       "_dom_classes": [],
       "_model_module": "@jupyter-widgets/controls",
       "_model_module_version": "1.5.0",
       "_model_name": "HBoxModel",
       "_view_count": null,
       "_view_module": "@jupyter-widgets/controls",
       "_view_module_version": "1.5.0",
       "_view_name": "HBoxView",
       "box_style": "",
       "children": [
        "IPY_MODEL_ea837eb9a5944bcc88129323783bea7f",
        "IPY_MODEL_836deb3e78c84cdd9017860a3ee2bc8e"
       ],
       "layout": "IPY_MODEL_ef76cfd8efa44d10a1ac3985237a4b85"
      }
     },
     "89cdab6e50114f7896a01992f6b92f4c": {
      "model_module": "@jupyter-widgets/base",
      "model_module_version": "1.2.0",
      "model_name": "LayoutModel",
      "state": {
       "_model_module": "@jupyter-widgets/base",
       "_model_module_version": "1.2.0",
       "_model_name": "LayoutModel",
       "_view_count": null,
       "_view_module": "@jupyter-widgets/base",
       "_view_module_version": "1.2.0",
       "_view_name": "LayoutView",
       "align_content": null,
       "align_items": null,
       "align_self": null,
       "border": null,
       "bottom": null,
       "display": null,
       "flex": null,
       "flex_flow": null,
       "grid_area": null,
       "grid_auto_columns": null,
       "grid_auto_flow": null,
       "grid_auto_rows": null,
       "grid_column": null,
       "grid_gap": null,
       "grid_row": null,
       "grid_template_areas": null,
       "grid_template_columns": null,
       "grid_template_rows": null,
       "height": null,
       "justify_content": null,
       "justify_items": null,
       "left": null,
       "margin": null,
       "max_height": null,
       "max_width": null,
       "min_height": null,
       "min_width": null,
       "object_fit": null,
       "object_position": null,
       "order": null,
       "overflow": null,
       "overflow_x": null,
       "overflow_y": null,
       "padding": null,
       "right": null,
       "top": null,
       "visibility": null,
       "width": null
      }
     },
     "8b00f34f87854f528ba9083467e2785e": {
      "model_module": "@jupyter-widgets/controls",
      "model_module_version": "1.5.0",
      "model_name": "HBoxModel",
      "state": {
       "_dom_classes": [],
       "_model_module": "@jupyter-widgets/controls",
       "_model_module_version": "1.5.0",
       "_model_name": "HBoxModel",
       "_view_count": null,
       "_view_module": "@jupyter-widgets/controls",
       "_view_module_version": "1.5.0",
       "_view_name": "HBoxView",
       "box_style": "",
       "children": [
        "IPY_MODEL_47cd7789f2bc4764b56be290fa15dfeb",
        "IPY_MODEL_23861d69a999430b9f2d0c05a7bdc451"
       ],
       "layout": "IPY_MODEL_af95d4eabefa46959603feb68acdf872"
      }
     },
     "af95d4eabefa46959603feb68acdf872": {
      "model_module": "@jupyter-widgets/base",
      "model_module_version": "1.2.0",
      "model_name": "LayoutModel",
      "state": {
       "_model_module": "@jupyter-widgets/base",
       "_model_module_version": "1.2.0",
       "_model_name": "LayoutModel",
       "_view_count": null,
       "_view_module": "@jupyter-widgets/base",
       "_view_module_version": "1.2.0",
       "_view_name": "LayoutView",
       "align_content": null,
       "align_items": null,
       "align_self": null,
       "border": null,
       "bottom": null,
       "display": null,
       "flex": null,
       "flex_flow": null,
       "grid_area": null,
       "grid_auto_columns": null,
       "grid_auto_flow": null,
       "grid_auto_rows": null,
       "grid_column": null,
       "grid_gap": null,
       "grid_row": null,
       "grid_template_areas": null,
       "grid_template_columns": null,
       "grid_template_rows": null,
       "height": null,
       "justify_content": null,
       "justify_items": null,
       "left": null,
       "margin": null,
       "max_height": null,
       "max_width": null,
       "min_height": null,
       "min_width": null,
       "object_fit": null,
       "object_position": null,
       "order": null,
       "overflow": null,
       "overflow_x": null,
       "overflow_y": null,
       "padding": null,
       "right": null,
       "top": null,
       "visibility": null,
       "width": null
      }
     },
     "c327d5bee41d40278cbb11746672700b": {
      "model_module": "@jupyter-widgets/controls",
      "model_module_version": "1.5.0",
      "model_name": "ProgressStyleModel",
      "state": {
       "_model_module": "@jupyter-widgets/controls",
       "_model_module_version": "1.5.0",
       "_model_name": "ProgressStyleModel",
       "_view_count": null,
       "_view_module": "@jupyter-widgets/base",
       "_view_module_version": "1.2.0",
       "_view_name": "StyleView",
       "bar_color": null,
       "description_width": "initial"
      }
     },
     "c7a499eebbc9477fb3be85f372b7fc81": {
      "model_module": "@jupyter-widgets/controls",
      "model_module_version": "1.5.0",
      "model_name": "FloatProgressModel",
      "state": {
       "_dom_classes": [],
       "_model_module": "@jupyter-widgets/controls",
       "_model_module_version": "1.5.0",
       "_model_name": "FloatProgressModel",
       "_view_count": null,
       "_view_module": "@jupyter-widgets/controls",
       "_view_module_version": "1.5.0",
       "_view_name": "ProgressView",
       "bar_style": "success",
       "description": "Downloading: 100%",
       "description_tooltip": null,
       "layout": "IPY_MODEL_ed1ca76a9cd747d582d8d4e174c19691",
       "max": 3271420488,
       "min": 0,
       "orientation": "horizontal",
       "style": "IPY_MODEL_c327d5bee41d40278cbb11746672700b",
       "value": 3271420488
      }
     },
     "c93d2b452a2941b79a4275c1225aca84": {
      "model_module": "@jupyter-widgets/controls",
      "model_module_version": "1.5.0",
      "model_name": "DescriptionStyleModel",
      "state": {
       "_model_module": "@jupyter-widgets/controls",
       "_model_module_version": "1.5.0",
       "_model_name": "DescriptionStyleModel",
       "_view_count": null,
       "_view_module": "@jupyter-widgets/base",
       "_view_module_version": "1.2.0",
       "_view_name": "StyleView",
       "description_width": ""
      }
     },
     "d23f929610c34bf48839ae6a57a4852e": {
      "model_module": "@jupyter-widgets/controls",
      "model_module_version": "1.5.0",
      "model_name": "ProgressStyleModel",
      "state": {
       "_model_module": "@jupyter-widgets/controls",
       "_model_module_version": "1.5.0",
       "_model_name": "ProgressStyleModel",
       "_view_count": null,
       "_view_module": "@jupyter-widgets/base",
       "_view_module_version": "1.2.0",
       "_view_name": "StyleView",
       "bar_color": null,
       "description_width": "initial"
      }
     },
     "d716519e9ef44d7fa091d183670af107": {
      "model_module": "@jupyter-widgets/base",
      "model_module_version": "1.2.0",
      "model_name": "LayoutModel",
      "state": {
       "_model_module": "@jupyter-widgets/base",
       "_model_module_version": "1.2.0",
       "_model_name": "LayoutModel",
       "_view_count": null,
       "_view_module": "@jupyter-widgets/base",
       "_view_module_version": "1.2.0",
       "_view_name": "LayoutView",
       "align_content": null,
       "align_items": null,
       "align_self": null,
       "border": null,
       "bottom": null,
       "display": null,
       "flex": null,
       "flex_flow": null,
       "grid_area": null,
       "grid_auto_columns": null,
       "grid_auto_flow": null,
       "grid_auto_rows": null,
       "grid_column": null,
       "grid_gap": null,
       "grid_row": null,
       "grid_template_areas": null,
       "grid_template_columns": null,
       "grid_template_rows": null,
       "height": null,
       "justify_content": null,
       "justify_items": null,
       "left": null,
       "margin": null,
       "max_height": null,
       "max_width": null,
       "min_height": null,
       "min_width": null,
       "object_fit": null,
       "object_position": null,
       "order": null,
       "overflow": null,
       "overflow_x": null,
       "overflow_y": null,
       "padding": null,
       "right": null,
       "top": null,
       "visibility": null,
       "width": null
      }
     },
     "de28a6cf670c40cea01886e8cb0ec347": {
      "model_module": "@jupyter-widgets/controls",
      "model_module_version": "1.5.0",
      "model_name": "DescriptionStyleModel",
      "state": {
       "_model_module": "@jupyter-widgets/controls",
       "_model_module_version": "1.5.0",
       "_model_name": "DescriptionStyleModel",
       "_view_count": null,
       "_view_module": "@jupyter-widgets/base",
       "_view_module_version": "1.2.0",
       "_view_name": "StyleView",
       "description_width": ""
      }
     },
     "ea837eb9a5944bcc88129323783bea7f": {
      "model_module": "@jupyter-widgets/controls",
      "model_module_version": "1.5.0",
      "model_name": "FloatProgressModel",
      "state": {
       "_dom_classes": [],
       "_model_module": "@jupyter-widgets/controls",
       "_model_module_version": "1.5.0",
       "_model_name": "FloatProgressModel",
       "_view_count": null,
       "_view_module": "@jupyter-widgets/controls",
       "_view_module_version": "1.5.0",
       "_view_name": "ProgressView",
       "bar_style": "success",
       "description": "Downloading: 100%",
       "description_tooltip": null,
       "layout": "IPY_MODEL_6969328afc8d4c66822903943a32c943",
       "max": 5069051,
       "min": 0,
       "orientation": "horizontal",
       "style": "IPY_MODEL_3f6e7756a9dd4f7ebcc4ffef2370fc49",
       "value": 5069051
      }
     },
     "ed1ca76a9cd747d582d8d4e174c19691": {
      "model_module": "@jupyter-widgets/base",
      "model_module_version": "1.2.0",
      "model_name": "LayoutModel",
      "state": {
       "_model_module": "@jupyter-widgets/base",
       "_model_module_version": "1.2.0",
       "_model_name": "LayoutModel",
       "_view_count": null,
       "_view_module": "@jupyter-widgets/base",
       "_view_module_version": "1.2.0",
       "_view_name": "LayoutView",
       "align_content": null,
       "align_items": null,
       "align_self": null,
       "border": null,
       "bottom": null,
       "display": null,
       "flex": null,
       "flex_flow": null,
       "grid_area": null,
       "grid_auto_columns": null,
       "grid_auto_flow": null,
       "grid_auto_rows": null,
       "grid_column": null,
       "grid_gap": null,
       "grid_row": null,
       "grid_template_areas": null,
       "grid_template_columns": null,
       "grid_template_rows": null,
       "height": null,
       "justify_content": null,
       "justify_items": null,
       "left": null,
       "margin": null,
       "max_height": null,
       "max_width": null,
       "min_height": null,
       "min_width": null,
       "object_fit": null,
       "object_position": null,
       "order": null,
       "overflow": null,
       "overflow_x": null,
       "overflow_y": null,
       "padding": null,
       "right": null,
       "top": null,
       "visibility": null,
       "width": null
      }
     },
     "ef76cfd8efa44d10a1ac3985237a4b85": {
      "model_module": "@jupyter-widgets/base",
      "model_module_version": "1.2.0",
      "model_name": "LayoutModel",
      "state": {
       "_model_module": "@jupyter-widgets/base",
       "_model_module_version": "1.2.0",
       "_model_name": "LayoutModel",
       "_view_count": null,
       "_view_module": "@jupyter-widgets/base",
       "_view_module_version": "1.2.0",
       "_view_name": "LayoutView",
       "align_content": null,
       "align_items": null,
       "align_self": null,
       "border": null,
       "bottom": null,
       "display": null,
       "flex": null,
       "flex_flow": null,
       "grid_area": null,
       "grid_auto_columns": null,
       "grid_auto_flow": null,
       "grid_auto_rows": null,
       "grid_column": null,
       "grid_gap": null,
       "grid_row": null,
       "grid_template_areas": null,
       "grid_template_columns": null,
       "grid_template_rows": null,
       "height": null,
       "justify_content": null,
       "justify_items": null,
       "left": null,
       "margin": null,
       "max_height": null,
       "max_width": null,
       "min_height": null,
       "min_width": null,
       "object_fit": null,
       "object_position": null,
       "order": null,
       "overflow": null,
       "overflow_x": null,
       "overflow_y": null,
       "padding": null,
       "right": null,
       "top": null,
       "visibility": null,
       "width": null
      }
     },
     "f283a3d85e2549a5a3ab0763a3ae1018": {
      "model_module": "@jupyter-widgets/base",
      "model_module_version": "1.2.0",
      "model_name": "LayoutModel",
      "state": {
       "_model_module": "@jupyter-widgets/base",
       "_model_module_version": "1.2.0",
       "_model_name": "LayoutModel",
       "_view_count": null,
       "_view_module": "@jupyter-widgets/base",
       "_view_module_version": "1.2.0",
       "_view_name": "LayoutView",
       "align_content": null,
       "align_items": null,
       "align_self": null,
       "border": null,
       "bottom": null,
       "display": null,
       "flex": null,
       "flex_flow": null,
       "grid_area": null,
       "grid_auto_columns": null,
       "grid_auto_flow": null,
       "grid_auto_rows": null,
       "grid_column": null,
       "grid_gap": null,
       "grid_row": null,
       "grid_template_areas": null,
       "grid_template_columns": null,
       "grid_template_rows": null,
       "height": null,
       "justify_content": null,
       "justify_items": null,
       "left": null,
       "margin": null,
       "max_height": null,
       "max_width": null,
       "min_height": null,
       "min_width": null,
       "object_fit": null,
       "object_position": null,
       "order": null,
       "overflow": null,
       "overflow_x": null,
       "overflow_y": null,
       "padding": null,
       "right": null,
       "top": null,
       "visibility": null,
       "width": null
      }
     }
    },
    "version_major": 2,
    "version_minor": 0
   }
  }
 },
 "nbformat": 4,
 "nbformat_minor": 4
}
